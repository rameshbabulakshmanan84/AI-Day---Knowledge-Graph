{
  "nbformat": 4,
  "nbformat_minor": 0,
  "metadata": {
    "colab": {
      "name": "Pytorch-1.ipynb",
      "provenance": [],
      "collapsed_sections": [],
      "authorship_tag": "ABX9TyN8uBI7U0bOoIWNxGzaP1Nt",
      "include_colab_link": true
    },
    "kernelspec": {
      "name": "python3",
      "display_name": "Python 3"
    },
    "accelerator": "GPU"
  },
  "cells": [
    {
      "cell_type": "markdown",
      "metadata": {
        "id": "view-in-github",
        "colab_type": "text"
      },
      "source": [
        "<a href=\"https://colab.research.google.com/github/rameshbabulakshmanan84/AI-Day---Knowledge-Graph/blob/master/Pytorch_1.ipynb\" target=\"_parent\"><img src=\"https://colab.research.google.com/assets/colab-badge.svg\" alt=\"Open In Colab\"/></a>"
      ]
    },
    {
      "cell_type": "code",
      "metadata": {
        "id": "0y2rl5i_VcHv",
        "colab_type": "code",
        "colab": {}
      },
      "source": [
        "import torch"
      ],
      "execution_count": 2,
      "outputs": []
    },
    {
      "cell_type": "code",
      "metadata": {
        "id": "zQ_ikCSgXqBf",
        "colab_type": "code",
        "colab": {}
      },
      "source": [
        "#Unitialized\n",
        "x=torch.empty(5,3)"
      ],
      "execution_count": 3,
      "outputs": []
    },
    {
      "cell_type": "code",
      "metadata": {
        "id": "RH4spTeDXwR7",
        "colab_type": "code",
        "colab": {
          "base_uri": "https://localhost:8080/",
          "height": 102
        },
        "outputId": "da7f5143-1773-4548-dfce-cf3b5a93788f"
      },
      "source": [
        "print(x)"
      ],
      "execution_count": 4,
      "outputs": [
        {
          "output_type": "stream",
          "text": [
            "tensor([[8.0396e-36, 0.0000e+00, 3.3631e-44],\n",
            "        [0.0000e+00,        nan, 0.0000e+00],\n",
            "        [1.1578e+27, 1.1362e+30, 7.1547e+22],\n",
            "        [4.5828e+30, 1.2121e+04, 7.1846e+22],\n",
            "        [9.2198e-39, 7.0374e+22, 0.0000e+00]])\n"
          ],
          "name": "stdout"
        }
      ]
    },
    {
      "cell_type": "code",
      "metadata": {
        "id": "UspfKxoiX9Gg",
        "colab_type": "code",
        "colab": {
          "base_uri": "https://localhost:8080/",
          "height": 102
        },
        "outputId": "ba58aa79-199f-4848-fb28-3a0c5111a3a9"
      },
      "source": [
        "#Random initialized array\n",
        "x=torch.rand(5,3)\n",
        "x"
      ],
      "execution_count": 6,
      "outputs": [
        {
          "output_type": "execute_result",
          "data": {
            "text/plain": [
              "tensor([[0.2361, 0.6174, 0.3550],\n",
              "        [0.3480, 0.0360, 0.8278],\n",
              "        [0.5571, 0.0116, 0.5263],\n",
              "        [0.7206, 0.0782, 0.2254],\n",
              "        [0.0469, 0.5206, 0.8852]])"
            ]
          },
          "metadata": {
            "tags": []
          },
          "execution_count": 6
        }
      ]
    },
    {
      "cell_type": "code",
      "metadata": {
        "id": "MGawqWiAYQUl",
        "colab_type": "code",
        "colab": {
          "base_uri": "https://localhost:8080/",
          "height": 102
        },
        "outputId": "cad5d985-57bc-4bb8-d3d5-cfc0cf513881"
      },
      "source": [
        "x=torch.zeros((5,3),dtype=torch.long)\n",
        "x"
      ],
      "execution_count": 7,
      "outputs": [
        {
          "output_type": "execute_result",
          "data": {
            "text/plain": [
              "tensor([[0, 0, 0],\n",
              "        [0, 0, 0],\n",
              "        [0, 0, 0],\n",
              "        [0, 0, 0],\n",
              "        [0, 0, 0]])"
            ]
          },
          "metadata": {
            "tags": []
          },
          "execution_count": 7
        }
      ]
    },
    {
      "cell_type": "code",
      "metadata": {
        "id": "9Shz9lIiYsrX",
        "colab_type": "code",
        "colab": {
          "base_uri": "https://localhost:8080/",
          "height": 34
        },
        "outputId": "8e9b2ed3-71b2-47eb-bdc9-a69a6e2167dd"
      },
      "source": [
        "#initialize the torch\n",
        "x=torch.tensor([5,3])\n",
        "x"
      ],
      "execution_count": 10,
      "outputs": [
        {
          "output_type": "execute_result",
          "data": {
            "text/plain": [
              "tensor([5, 3])"
            ]
          },
          "metadata": {
            "tags": []
          },
          "execution_count": 10
        }
      ]
    },
    {
      "cell_type": "code",
      "metadata": {
        "id": "D1qLIHvAcquL",
        "colab_type": "code",
        "colab": {
          "base_uri": "https://localhost:8080/",
          "height": 102
        },
        "outputId": "a3ad8cbc-ad57-4ff3-8221-ed981530c3a2"
      },
      "source": [
        "x=x.new_ones(5,3,dtype=torch.double)\n",
        "x"
      ],
      "execution_count": 11,
      "outputs": [
        {
          "output_type": "execute_result",
          "data": {
            "text/plain": [
              "tensor([[1., 1., 1.],\n",
              "        [1., 1., 1.],\n",
              "        [1., 1., 1.],\n",
              "        [1., 1., 1.],\n",
              "        [1., 1., 1.]], dtype=torch.float64)"
            ]
          },
          "metadata": {
            "tags": []
          },
          "execution_count": 11
        }
      ]
    },
    {
      "cell_type": "code",
      "metadata": {
        "id": "9bpP3e8Lc099",
        "colab_type": "code",
        "colab": {
          "base_uri": "https://localhost:8080/",
          "height": 102
        },
        "outputId": "8a3f7369-de15-4195-d1e3-af91103ad218"
      },
      "source": [
        "x=torch.randn_like(x,dtype=torch.float)\n",
        "x"
      ],
      "execution_count": 13,
      "outputs": [
        {
          "output_type": "execute_result",
          "data": {
            "text/plain": [
              "tensor([[ 0.7012,  0.9786,  0.3576],\n",
              "        [ 0.2119, -1.1724,  1.3245],\n",
              "        [-1.0249,  0.5118,  1.7047],\n",
              "        [-2.0711,  0.9770, -2.0021],\n",
              "        [-1.5603,  0.7013, -0.2785]])"
            ]
          },
          "metadata": {
            "tags": []
          },
          "execution_count": 13
        }
      ]
    },
    {
      "cell_type": "code",
      "metadata": {
        "id": "CdaSslWBdFkk",
        "colab_type": "code",
        "colab": {}
      },
      "source": [
        "y=torch.randn(5,3)"
      ],
      "execution_count": 14,
      "outputs": []
    },
    {
      "cell_type": "code",
      "metadata": {
        "id": "QZso5laPdMv6",
        "colab_type": "code",
        "colab": {
          "base_uri": "https://localhost:8080/",
          "height": 102
        },
        "outputId": "0b6dc0f5-86f2-4d4c-859f-4dc3a927c6ba"
      },
      "source": [
        "print(x+y)"
      ],
      "execution_count": 15,
      "outputs": [
        {
          "output_type": "stream",
          "text": [
            "tensor([[ 1.1189, -0.0756,  0.5250],\n",
            "        [-0.0471, -1.1110,  1.2267],\n",
            "        [ 0.1794, -1.1047,  2.5203],\n",
            "        [-2.7208,  2.3825, -2.4673],\n",
            "        [-0.2277,  0.7173,  0.1629]])\n"
          ],
          "name": "stdout"
        }
      ]
    },
    {
      "cell_type": "code",
      "metadata": {
        "id": "7C2tj2W0dR3K",
        "colab_type": "code",
        "colab": {
          "base_uri": "https://localhost:8080/",
          "height": 102
        },
        "outputId": "d1b96db1-810d-4662-e368-4c25f5c5084e"
      },
      "source": [
        "print(torch.add(x,y))"
      ],
      "execution_count": 17,
      "outputs": [
        {
          "output_type": "stream",
          "text": [
            "tensor([[ 1.1189, -0.0756,  0.5250],\n",
            "        [-0.0471, -1.1110,  1.2267],\n",
            "        [ 0.1794, -1.1047,  2.5203],\n",
            "        [-2.7208,  2.3825, -2.4673],\n",
            "        [-0.2277,  0.7173,  0.1629]])\n"
          ],
          "name": "stdout"
        }
      ]
    },
    {
      "cell_type": "code",
      "metadata": {
        "id": "d--6YkBEdfr5",
        "colab_type": "code",
        "colab": {
          "base_uri": "https://localhost:8080/",
          "height": 51
        },
        "outputId": "f4b5bd98-a664-44d0-f1dc-88af27a1e7fc"
      },
      "source": [
        "#Resize a tensor\n",
        "x=torch.randn(4,4)\n",
        "y=x.view(16)\n",
        "z=x.view(-1,8)\n",
        "z"
      ],
      "execution_count": 21,
      "outputs": [
        {
          "output_type": "execute_result",
          "data": {
            "text/plain": [
              "tensor([[ 0.2082, -0.0705, -1.0272,  0.6154, -0.0296,  0.1003, -0.5888, -1.4483],\n",
              "        [ 0.9277,  1.0296,  0.1193, -1.9788, -0.9216,  1.4849,  0.7876,  0.2992]])"
            ]
          },
          "metadata": {
            "tags": []
          },
          "execution_count": 21
        }
      ]
    },
    {
      "cell_type": "code",
      "metadata": {
        "id": "J84eh-j9eXTN",
        "colab_type": "code",
        "colab": {
          "base_uri": "https://localhost:8080/",
          "height": 51
        },
        "outputId": "1d3ac117-c553-4eb8-9316-258cd57c0560"
      },
      "source": [
        "#create a tensor and set req_grad=True\n",
        "x=torch.ones(2,2,requires_grad=True)\n",
        "print(x)"
      ],
      "execution_count": 22,
      "outputs": [
        {
          "output_type": "stream",
          "text": [
            "tensor([[1., 1.],\n",
            "        [1., 1.]], requires_grad=True)\n"
          ],
          "name": "stdout"
        }
      ]
    }
  ]
}